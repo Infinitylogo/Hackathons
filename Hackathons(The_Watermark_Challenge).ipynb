{
  "cells": [
    {
      "cell_type": "code",
      "execution_count": null,
      "metadata": {
        "id": "ChYdcRtOFwh9"
      },
      "outputs": [],
      "source": [
        "import warnings \n",
        "warnings.filterwarnings('ignore')\n",
        "import tensorflow as tf "
      ]
    },
    {
      "cell_type": "code",
      "execution_count": null,
      "metadata": {
        "id": "sFvlQQaMFwiE",
        "outputId": "714dc4ca-bc8a-48a7-80b2-de001efbbadd",
        "colab": {
          "base_uri": "https://localhost:8080/"
        }
      },
      "outputs": [
        {
          "output_type": "stream",
          "name": "stdout",
          "text": [
            "tensorflow version 2.12.0\n",
            "Result: [[12.]]\n"
          ]
        }
      ],
      "source": [
        "\n",
        "print('tensorflow version', tf.__version__)\n",
        "x = [[3.]]\n",
        "y = [[4.]]\n",
        "print('Result: {}'.format(tf.matmul(x, y)))"
      ]
    },
    {
      "cell_type": "code",
      "execution_count": null,
      "metadata": {
        "id": "sGLKeBwBFwiG"
      },
      "outputs": [],
      "source": [
        "import os \n",
        "from tensorflow.keras.preprocessing.image import ImageDataGenerator"
      ]
    },
    {
      "cell_type": "code",
      "source": [
        "from google.colab import drive\n",
        "drive.mount('/content/drive')"
      ],
      "metadata": {
        "colab": {
          "base_uri": "https://localhost:8080/"
        },
        "id": "uYGuMF87MYmR",
        "outputId": "884501c1-0892-4639-b9e1-8acd60943041"
      },
      "execution_count": null,
      "outputs": [
        {
          "output_type": "stream",
          "name": "stdout",
          "text": [
            "Mounted at /content/drive\n"
          ]
        }
      ]
    },
    {
      "cell_type": "code",
      "source": [
        "!unzip \"/content/drive/MyDrive/data.zip\"  -d \"/content/data/\""
      ],
      "metadata": {
        "id": "GQMpWiiBGzfi"
      },
      "execution_count": null,
      "outputs": []
    },
    {
      "cell_type": "code",
      "execution_count": null,
      "metadata": {
        "id": "DJoWpTzCFwiI"
      },
      "outputs": [],
      "source": [
        "# data :- train.csv\n",
        "import pandas as pd\n",
        "# loading csv data file :-- for test and train\n",
        "train=pd.read_csv('/content/data/train.csv')\n",
        "test = pd.read_csv('/content/data/test.csv')\n"
      ]
    },
    {
      "cell_type": "code",
      "execution_count": null,
      "metadata": {
        "id": "SCKmVu6_FwiJ",
        "outputId": "e893e2c8-204e-4617-951e-d606fd639fe6",
        "colab": {
          "base_uri": "https://localhost:8080/",
          "height": 221
        }
      },
      "outputs": [
        {
          "output_type": "execute_result",
          "data": {
            "text/plain": [
              "        Image  Label\n",
              "0  YGP5FW.jpg      0\n",
              "1  R5BWPN.jpg      0\n",
              "2  ESROUO.jpg      0\n",
              "3  4CYU0L.jpg      0\n",
              "4  3WG532.jpg      0"
            ],
            "text/html": [
              "\n",
              "  <div id=\"df-d1dd2f6e-439e-4850-b299-b57bc7385464\">\n",
              "    <div class=\"colab-df-container\">\n",
              "      <div>\n",
              "<style scoped>\n",
              "    .dataframe tbody tr th:only-of-type {\n",
              "        vertical-align: middle;\n",
              "    }\n",
              "\n",
              "    .dataframe tbody tr th {\n",
              "        vertical-align: top;\n",
              "    }\n",
              "\n",
              "    .dataframe thead th {\n",
              "        text-align: right;\n",
              "    }\n",
              "</style>\n",
              "<table border=\"1\" class=\"dataframe\">\n",
              "  <thead>\n",
              "    <tr style=\"text-align: right;\">\n",
              "      <th></th>\n",
              "      <th>Image</th>\n",
              "      <th>Label</th>\n",
              "    </tr>\n",
              "  </thead>\n",
              "  <tbody>\n",
              "    <tr>\n",
              "      <th>0</th>\n",
              "      <td>YGP5FW.jpg</td>\n",
              "      <td>0</td>\n",
              "    </tr>\n",
              "    <tr>\n",
              "      <th>1</th>\n",
              "      <td>R5BWPN.jpg</td>\n",
              "      <td>0</td>\n",
              "    </tr>\n",
              "    <tr>\n",
              "      <th>2</th>\n",
              "      <td>ESROUO.jpg</td>\n",
              "      <td>0</td>\n",
              "    </tr>\n",
              "    <tr>\n",
              "      <th>3</th>\n",
              "      <td>4CYU0L.jpg</td>\n",
              "      <td>0</td>\n",
              "    </tr>\n",
              "    <tr>\n",
              "      <th>4</th>\n",
              "      <td>3WG532.jpg</td>\n",
              "      <td>0</td>\n",
              "    </tr>\n",
              "  </tbody>\n",
              "</table>\n",
              "</div>\n",
              "      <button class=\"colab-df-convert\" onclick=\"convertToInteractive('df-d1dd2f6e-439e-4850-b299-b57bc7385464')\"\n",
              "              title=\"Convert this dataframe to an interactive table.\"\n",
              "              style=\"display:none;\">\n",
              "        \n",
              "  <svg xmlns=\"http://www.w3.org/2000/svg\" height=\"24px\"viewBox=\"0 0 24 24\"\n",
              "       width=\"24px\">\n",
              "    <path d=\"M0 0h24v24H0V0z\" fill=\"none\"/>\n",
              "    <path d=\"M18.56 5.44l.94 2.06.94-2.06 2.06-.94-2.06-.94-.94-2.06-.94 2.06-2.06.94zm-11 1L8.5 8.5l.94-2.06 2.06-.94-2.06-.94L8.5 2.5l-.94 2.06-2.06.94zm10 10l.94 2.06.94-2.06 2.06-.94-2.06-.94-.94-2.06-.94 2.06-2.06.94z\"/><path d=\"M17.41 7.96l-1.37-1.37c-.4-.4-.92-.59-1.43-.59-.52 0-1.04.2-1.43.59L10.3 9.45l-7.72 7.72c-.78.78-.78 2.05 0 2.83L4 21.41c.39.39.9.59 1.41.59.51 0 1.02-.2 1.41-.59l7.78-7.78 2.81-2.81c.8-.78.8-2.07 0-2.86zM5.41 20L4 18.59l7.72-7.72 1.47 1.35L5.41 20z\"/>\n",
              "  </svg>\n",
              "      </button>\n",
              "      \n",
              "  <style>\n",
              "    .colab-df-container {\n",
              "      display:flex;\n",
              "      flex-wrap:wrap;\n",
              "      gap: 12px;\n",
              "    }\n",
              "\n",
              "    .colab-df-convert {\n",
              "      background-color: #E8F0FE;\n",
              "      border: none;\n",
              "      border-radius: 50%;\n",
              "      cursor: pointer;\n",
              "      display: none;\n",
              "      fill: #1967D2;\n",
              "      height: 32px;\n",
              "      padding: 0 0 0 0;\n",
              "      width: 32px;\n",
              "    }\n",
              "\n",
              "    .colab-df-convert:hover {\n",
              "      background-color: #E2EBFA;\n",
              "      box-shadow: 0px 1px 2px rgba(60, 64, 67, 0.3), 0px 1px 3px 1px rgba(60, 64, 67, 0.15);\n",
              "      fill: #174EA6;\n",
              "    }\n",
              "\n",
              "    [theme=dark] .colab-df-convert {\n",
              "      background-color: #3B4455;\n",
              "      fill: #D2E3FC;\n",
              "    }\n",
              "\n",
              "    [theme=dark] .colab-df-convert:hover {\n",
              "      background-color: #434B5C;\n",
              "      box-shadow: 0px 1px 3px 1px rgba(0, 0, 0, 0.15);\n",
              "      filter: drop-shadow(0px 1px 2px rgba(0, 0, 0, 0.3));\n",
              "      fill: #FFFFFF;\n",
              "    }\n",
              "  </style>\n",
              "\n",
              "      <script>\n",
              "        const buttonEl =\n",
              "          document.querySelector('#df-d1dd2f6e-439e-4850-b299-b57bc7385464 button.colab-df-convert');\n",
              "        buttonEl.style.display =\n",
              "          google.colab.kernel.accessAllowed ? 'block' : 'none';\n",
              "\n",
              "        async function convertToInteractive(key) {\n",
              "          const element = document.querySelector('#df-d1dd2f6e-439e-4850-b299-b57bc7385464');\n",
              "          const dataTable =\n",
              "            await google.colab.kernel.invokeFunction('convertToInteractive',\n",
              "                                                     [key], {});\n",
              "          if (!dataTable) return;\n",
              "\n",
              "          const docLinkHtml = 'Like what you see? Visit the ' +\n",
              "            '<a target=\"_blank\" href=https://colab.research.google.com/notebooks/data_table.ipynb>data table notebook</a>'\n",
              "            + ' to learn more about interactive tables.';\n",
              "          element.innerHTML = '';\n",
              "          dataTable['output_type'] = 'display_data';\n",
              "          await google.colab.output.renderOutput(dataTable, element);\n",
              "          const docLink = document.createElement('div');\n",
              "          docLink.innerHTML = docLinkHtml;\n",
              "          element.appendChild(docLink);\n",
              "        }\n",
              "      </script>\n",
              "    </div>\n",
              "  </div>\n",
              "  "
            ]
          },
          "metadata": {},
          "execution_count": 68
        }
      ],
      "source": [
        "# Small details:--\n",
        "train.head()"
      ]
    },
    {
      "cell_type": "code",
      "execution_count": null,
      "metadata": {
        "id": "GWCmH2jbFwiL"
      },
      "outputs": [],
      "source": [
        "#we can create batches of images for the above images, and setting target as label\n",
        "train_datagen = ImageDataGenerator(rescale=1./255, \n",
        "                                   rotation_range=40,\n",
        "                                    width_shift_range=0.2,\n",
        "                                    height_shift_range=0.2,\n",
        "                                    shear_range=0.2,\n",
        "                                    zoom_range=0.2,\n",
        "                                    horizontal_flip=True,\n",
        "                                    fill_mode='nearest')\n",
        "\n",
        "test_datagen = ImageDataGenerator(rescale=1./255, \n",
        "                                   rotation_range=40,\n",
        "                                    width_shift_range=0.2,\n",
        "                                    height_shift_range=0.2,\n",
        "                                    shear_range=0.2,\n",
        "                                    zoom_range=0.2,\n",
        "                                    horizontal_flip=True,\n",
        "                                    fill_mode='nearest')"
      ]
    },
    {
      "cell_type": "code",
      "execution_count": null,
      "metadata": {
        "id": "0PD4cbmBFwiO"
      },
      "outputs": [],
      "source": [
        "train['Label']=train['Label'].astype('str')"
      ]
    },
    {
      "cell_type": "code",
      "execution_count": null,
      "metadata": {
        "id": "HFAO216mFwiP",
        "outputId": "60290e66-97df-44a3-8625-7b24fb47e4e9",
        "colab": {
          "base_uri": "https://localhost:8080/"
        }
      },
      "outputs": [
        {
          "output_type": "stream",
          "name": "stdout",
          "text": [
            "Found 15933 validated image filenames belonging to 2 classes.\n"
          ]
        }
      ],
      "source": [
        "train_set = train_datagen.flow_from_dataframe(train,\n",
        "                                              directory=\"/content/data/train/\",\n",
        "                                              x_col=\"Image\",\n",
        "                                              y_col=\"Label\",\n",
        "                                              target_size=(150, 150),\n",
        "                                              batch_size=32,\n",
        "                                             class_mode='binary'\n",
        "                                              )"
      ]
    },
    {
      "cell_type": "code",
      "execution_count": null,
      "metadata": {
        "id": "Ecl8mWO3FwiR"
      },
      "outputs": [],
      "source": [
        "test['Label']=test['Label'].astype('str')"
      ]
    },
    {
      "cell_type": "code",
      "execution_count": null,
      "metadata": {
        "id": "ZwrkJ4cxFwiS",
        "outputId": "86b22a51-22f2-4a59-f246-33c8bdc1cad7",
        "colab": {
          "base_uri": "https://localhost:8080/"
        }
      },
      "outputs": [
        {
          "output_type": "stream",
          "name": "stdout",
          "text": [
            "Found 6829 validated image filenames belonging to 1 classes.\n"
          ]
        }
      ],
      "source": [
        "test_set = train_datagen.flow_from_dataframe(test,\n",
        "                                              directory=\"/content/data/test/\",\n",
        "                                              x_col=\"Image\",\n",
        "                                              y_col=\"Label\",\n",
        "                                              target_size=(150, 150),\n",
        "                                              batch_size=32\n",
        "                                              )"
      ]
    },
    {
      "cell_type": "code",
      "execution_count": null,
      "metadata": {
        "id": "GG0hwthsFwiU"
      },
      "outputs": [],
      "source": [
        "model = tf.keras.models.Sequential([\n",
        "    # since Conv2D is the first layer of the neural network, we should also specify the size of the input\n",
        "    tf.keras.layers.Conv2D(16, (3,3), activation='relu', input_shape=(150, 150, 3)),\n",
        "    # apply pooling\n",
        "    tf.keras.layers.MaxPooling2D(2,2),\n",
        "    # and repeat the process\n",
        "    tf.keras.layers.Conv2D(32, (3,3), activation='relu'),\n",
        "    tf.keras.layers.MaxPooling2D(2,2), \n",
        "    tf.keras.layers.Conv2D(64, (3,3), activation='relu'), \n",
        "    tf.keras.layers.MaxPooling2D(2,2),\n",
        "    # flatten the result to feed it to the dense layer\n",
        "    tf.keras.layers.Flatten(), \n",
        "    # and define 512 neurons for processing the output coming by the previous layers\n",
        "    tf.keras.layers.Dense(512, activation='relu'), \n",
        "    # a single output neuron. The result will be 0 if the image is a cat, 1 if it is a dog\n",
        "    tf.keras.layers.Dense(1, activation='sigmoid')  \n",
        "])"
      ]
    },
    {
      "cell_type": "code",
      "execution_count": null,
      "metadata": {
        "id": "Gy9HPjmCFwiV"
      },
      "outputs": [],
      "source": [
        "model.compile(optimizer='adam',\n",
        "              loss='binary_crossentropy',\n",
        "              metrics=['accuracy'])"
      ]
    },
    {
      "cell_type": "code",
      "execution_count": null,
      "metadata": {
        "id": "wvdHpSgaFwiW",
        "outputId": "1a286823-e61f-4c73-f9c3-4adadbcb2205",
        "colab": {
          "base_uri": "https://localhost:8080/"
        }
      },
      "outputs": [
        {
          "output_type": "stream",
          "name": "stdout",
          "text": [
            "Epoch 1/10\n",
            "497/497 [==============================] - 158s 312ms/step - loss: 0.6873 - accuracy: 0.5675\n",
            "Epoch 2/10\n",
            "497/497 [==============================] - 153s 307ms/step - loss: 0.6769 - accuracy: 0.5777\n",
            "Epoch 3/10\n",
            "497/497 [==============================] - 153s 308ms/step - loss: 0.6792 - accuracy: 0.5769\n",
            "Epoch 4/10\n",
            "497/497 [==============================] - 152s 306ms/step - loss: 0.6713 - accuracy: 0.5880\n",
            "Epoch 5/10\n",
            "497/497 [==============================] - 151s 304ms/step - loss: 0.6673 - accuracy: 0.5956\n",
            "Epoch 6/10\n",
            "497/497 [==============================] - 150s 301ms/step - loss: 0.6625 - accuracy: 0.5995\n",
            "Epoch 7/10\n",
            "497/497 [==============================] - 151s 303ms/step - loss: 0.6589 - accuracy: 0.6085\n",
            "Epoch 8/10\n",
            "497/497 [==============================] - 152s 306ms/step - loss: 0.6569 - accuracy: 0.6091\n",
            "Epoch 9/10\n",
            "497/497 [==============================] - 150s 302ms/step - loss: 0.6529 - accuracy: 0.6149\n",
            "Epoch 10/10\n",
            "497/497 [==============================] - 150s 302ms/step - loss: 0.6496 - accuracy: 0.6151\n"
          ]
        }
      ],
      "source": [
        "import numpy as np\n",
        "epochs=10\n",
        "with tf.device('/GPU:0'):\n",
        "    history = model.fit_generator(\n",
        "        train_set,\n",
        "        steps_per_epoch=15933//32,\n",
        "        epochs=epochs\n",
        "    )"
      ]
    },
    {
      "cell_type": "code",
      "source": [
        "from tensorflow.keras.models import load_model\n",
        "model.save('/content/drive/MyDrive/water.h5')\n",
        "print('Model Saved!')\n",
        " \n",
        "# load model\n",
        "savedModel=load_model('/content/drive/MyDrive/water.h5')\n",
        "savedModel.summary()"
      ],
      "metadata": {
        "colab": {
          "base_uri": "https://localhost:8080/"
        },
        "id": "w-y0OAGOyZGJ",
        "outputId": "731c52cc-fcce-428c-f4cd-ac040c7a574d"
      },
      "execution_count": null,
      "outputs": [
        {
          "output_type": "stream",
          "name": "stdout",
          "text": [
            "Model Saved!\n",
            "Model: \"sequential_3\"\n",
            "_________________________________________________________________\n",
            " Layer (type)                Output Shape              Param #   \n",
            "=================================================================\n",
            " conv2d_12 (Conv2D)          (None, 148, 148, 16)      448       \n",
            "                                                                 \n",
            " max_pooling2d_12 (MaxPoolin  (None, 74, 74, 16)       0         \n",
            " g2D)                                                            \n",
            "                                                                 \n",
            " conv2d_13 (Conv2D)          (None, 72, 72, 32)        4640      \n",
            "                                                                 \n",
            " max_pooling2d_13 (MaxPoolin  (None, 36, 36, 32)       0         \n",
            " g2D)                                                            \n",
            "                                                                 \n",
            " conv2d_14 (Conv2D)          (None, 34, 34, 64)        18496     \n",
            "                                                                 \n",
            " max_pooling2d_14 (MaxPoolin  (None, 17, 17, 64)       0         \n",
            " g2D)                                                            \n",
            "                                                                 \n",
            " flatten_3 (Flatten)         (None, 18496)             0         \n",
            "                                                                 \n",
            " dense_6 (Dense)             (None, 512)               9470464   \n",
            "                                                                 \n",
            " dense_7 (Dense)             (None, 1)                 513       \n",
            "                                                                 \n",
            "=================================================================\n",
            "Total params: 9,494,561\n",
            "Trainable params: 9,494,561\n",
            "Non-trainable params: 0\n",
            "_________________________________________________________________\n"
          ]
        }
      ]
    },
    {
      "cell_type": "code",
      "source": [
        "model.save_weights('/content/drive/MyDrive/water_weights.h5')\n",
        "print('Model Saved!')"
      ],
      "metadata": {
        "colab": {
          "base_uri": "https://localhost:8080/"
        },
        "id": "fYPVrmbNy0Wr",
        "outputId": "27dbdaa2-c52e-4a37-e13b-b71fdaf1b4a3"
      },
      "execution_count": null,
      "outputs": [
        {
          "output_type": "stream",
          "name": "stdout",
          "text": [
            "Model Saved!\n"
          ]
        }
      ]
    },
    {
      "cell_type": "code",
      "execution_count": null,
      "metadata": {
        "id": "j4azR8lZFwiY",
        "colab": {
          "base_uri": "https://localhost:8080/"
        },
        "outputId": "31f49a64-6135-4475-e1cb-b132f83714f5"
      },
      "outputs": [
        {
          "output_type": "stream",
          "name": "stdout",
          "text": [
            "214/214 [==============================] - 63s 293ms/step\n"
          ]
        }
      ],
      "source": [
        "preds=model.predict(test_set)"
      ]
    },
    {
      "cell_type": "code",
      "source": [
        "value=[]\n",
        "for i in preds:\n",
        "  if i > 0.5:\n",
        "    value.append(1)\n",
        "  else:\n",
        "    value.append(0)"
      ],
      "metadata": {
        "id": "KpA5CJl6XMu1"
      },
      "execution_count": null,
      "outputs": []
    },
    {
      "cell_type": "code",
      "source": [
        "len(value)"
      ],
      "metadata": {
        "colab": {
          "base_uri": "https://localhost:8080/"
        },
        "id": "w-1ncYddXUUq",
        "outputId": "9c62bbea-c608-45bf-88cc-d46f639ea741"
      },
      "execution_count": null,
      "outputs": [
        {
          "output_type": "execute_result",
          "data": {
            "text/plain": [
              "6829"
            ]
          },
          "metadata": {},
          "execution_count": 85
        }
      ]
    },
    {
      "cell_type": "code",
      "source": [
        "df=pd.DataFrame(value, columns=['Labels'])"
      ],
      "metadata": {
        "id": "-qunSVBnYIys"
      },
      "execution_count": null,
      "outputs": []
    },
    {
      "cell_type": "code",
      "source": [
        "df.to_csv('submission.csv')"
      ],
      "metadata": {
        "id": "We9NNvIixUD0"
      },
      "execution_count": null,
      "outputs": []
    },
    {
      "cell_type": "code",
      "source": [
        "df.to_csv('my_submission_file.csv', index=False)"
      ],
      "metadata": {
        "id": "XHx8vp5wxdyX"
      },
      "execution_count": null,
      "outputs": []
    }
  ],
  "metadata": {
    "kernelspec": {
      "display_name": "Python 3",
      "language": "python",
      "name": "python3"
    },
    "language_info": {
      "codemirror_mode": {
        "name": "ipython",
        "version": 3
      },
      "file_extension": ".py",
      "mimetype": "text/x-python",
      "name": "python",
      "nbconvert_exporter": "python",
      "pygments_lexer": "ipython3",
      "version": "3.10.6"
    },
    "orig_nbformat": 4,
    "colab": {
      "provenance": [],
      "gpuType": "T4"
    },
    "accelerator": "GPU",
    "gpuClass": "standard"
  },
  "nbformat": 4,
  "nbformat_minor": 0
}